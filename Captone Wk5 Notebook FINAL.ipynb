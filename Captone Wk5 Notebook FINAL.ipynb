{
 "cells": [
  {
   "cell_type": "markdown",
   "metadata": {},
   "source": [
    "# Part 1: Create Toronto Neighbourhoods"
   ]
  },
  {
   "cell_type": "markdown",
   "metadata": {},
   "source": [
    "### Import Pandas and wikipedia resources"
   ]
  },
  {
   "cell_type": "code",
   "execution_count": 81,
   "metadata": {
    "scrolled": true
   },
   "outputs": [
    {
     "name": "stdout",
     "output_type": "stream",
     "text": [
      "Collecting package metadata: done\n",
      "Solving environment: done\n",
      "\n",
      "## Package Plan ##\n",
      "\n",
      "  environment location: /home/jupyterlab/conda\n",
      "\n",
      "  added / updated specs:\n",
      "    - wikipedia\n",
      "\n",
      "\n",
      "The following packages will be UPDATED:\n",
      "\n",
      "  certifi              pkgs/main::certifi-2018.11.29-py36_0 --> conda-forge::certifi-2018.11.29-py36_1000\n",
      "  openssl              pkgs/main::openssl-1.1.1a-h7b6447c_0 --> conda-forge::openssl-1.1.1a-h14c3975_1000\n",
      "\n",
      "The following packages will be SUPERSEDED by a higher-priority channel:\n",
      "\n",
      "  ca-certificates    pkgs/main::ca-certificates-2018.12.5-0 --> conda-forge::ca-certificates-2018.11.29-ha4d7672_0\n",
      "\n",
      "\n",
      "Preparing transaction: done\n",
      "Verifying transaction: done\n",
      "Executing transaction: done\n"
     ]
    }
   ],
   "source": [
    "!conda install -c conda-forge wikipedia -y\n",
    "\n",
    "import pandas as pd\n",
    "import wikipedia as wp"
   ]
  },
  {
   "cell_type": "markdown",
   "metadata": {},
   "source": [
    "### Read table from wikipedia using webscraping"
   ]
  },
  {
   "cell_type": "code",
   "execution_count": 82,
   "metadata": {},
   "outputs": [],
   "source": [
    "#Get the html source\n",
    "html = wp.page(\"List of postal codes of Canada: M\").html().encode(\"UTF-8\")\n",
    "df = pd.read_html(html)[0]\n",
    "df.to_csv('beautifulsoup_pandas.csv',header=0,index=False)\n",
    "#print (df)"
   ]
  },
  {
   "cell_type": "markdown",
   "metadata": {},
   "source": [
    "### Create and visualise dataframe with appropriate column headers"
   ]
  },
  {
   "cell_type": "code",
   "execution_count": 83,
   "metadata": {},
   "outputs": [],
   "source": [
    "column_names= ['Postcode', 'Borough', 'Neighbourhood']\n",
    "df = pd.read_csv(\"beautifulsoup_pandas.csv\", names = column_names)\n",
    "df=df.drop(df.index[0])\n",
    "df=df.reset_index()\n",
    "df=df.drop('index', axis=1)\n",
    "#df.head()"
   ]
  },
  {
   "cell_type": "markdown",
   "metadata": {},
   "source": [
    "### Visualise dataframe shape"
   ]
  },
  {
   "cell_type": "code",
   "execution_count": 84,
   "metadata": {},
   "outputs": [
    {
     "data": {
      "text/plain": [
       "(289, 3)"
      ]
     },
     "execution_count": 84,
     "metadata": {},
     "output_type": "execute_result"
    }
   ],
   "source": [
    "df.shape"
   ]
  },
  {
   "cell_type": "code",
   "execution_count": 85,
   "metadata": {},
   "outputs": [],
   "source": [
    "df=df[df.Borough != 'Not assigned']\n",
    "#df"
   ]
  },
  {
   "cell_type": "markdown",
   "metadata": {},
   "source": [
    "### Aggregate Neighbourhoods"
   ]
  },
  {
   "cell_type": "code",
   "execution_count": 86,
   "metadata": {},
   "outputs": [
    {
     "data": {
      "text/plain": [
       "(103, 3)"
      ]
     },
     "execution_count": 86,
     "metadata": {},
     "output_type": "execute_result"
    }
   ],
   "source": [
    "df=df.groupby(['Postcode','Borough'])['Neighbourhood'].apply(','.join).reset_index()\n",
    "\n",
    "df.shape"
   ]
  },
  {
   "cell_type": "markdown",
   "metadata": {},
   "source": [
    "# Part 2: Geographical (Lat/Long) data"
   ]
  },
  {
   "cell_type": "markdown",
   "metadata": {},
   "source": [
    "### Import Geographical data and create new dataframe"
   ]
  },
  {
   "cell_type": "code",
   "execution_count": 87,
   "metadata": {},
   "outputs": [],
   "source": [
    "geo_column_names= ['Postcode', 'Latitude', 'Longitude']\n",
    "df_geo = pd.read_csv('https://cocl.us/Geospatial_data', names = geo_column_names)\n",
    "df_geo=df_geo.drop(df.index[0])\n",
    "df_geo=df_geo.reset_index()\n",
    "df_geo=df_geo.drop('index', axis=1)\n",
    "#df_geo"
   ]
  },
  {
   "cell_type": "markdown",
   "metadata": {},
   "source": [
    "### Merge dataframes on 'Postcode'"
   ]
  },
  {
   "cell_type": "code",
   "execution_count": 88,
   "metadata": {},
   "outputs": [],
   "source": [
    "df_merged = pd.merge(df, df_geo, on='Postcode')\n",
    "#df_merged"
   ]
  },
  {
   "cell_type": "markdown",
   "metadata": {},
   "source": [
    "### Visualise shape of merged dataframe"
   ]
  },
  {
   "cell_type": "code",
   "execution_count": 89,
   "metadata": {},
   "outputs": [
    {
     "data": {
      "text/plain": [
       "(103, 5)"
      ]
     },
     "execution_count": 89,
     "metadata": {},
     "output_type": "execute_result"
    }
   ],
   "source": [
    "df_merged.shape"
   ]
  },
  {
   "cell_type": "markdown",
   "metadata": {},
   "source": [
    "# Part 3: Investigation of geographical area and import of map tools"
   ]
  },
  {
   "cell_type": "markdown",
   "metadata": {},
   "source": [
    "### Import necessary modules for maps and analysis"
   ]
  },
  {
   "cell_type": "code",
   "execution_count": 90,
   "metadata": {},
   "outputs": [
    {
     "name": "stdout",
     "output_type": "stream",
     "text": [
      "Collecting package metadata: done\n",
      "Solving environment: done\n",
      "\n",
      "# All requested packages already installed.\n",
      "\n",
      "Collecting package metadata: done\n",
      "Solving environment: done\n",
      "\n",
      "# All requested packages already installed.\n",
      "\n",
      "Libraries imported.\n"
     ]
    }
   ],
   "source": [
    "import numpy as np # library to handle data in a vectorized manner\n",
    "\n",
    "import pandas as pd # library for data analsysis\n",
    "pd.set_option('display.max_columns', None)\n",
    "pd.set_option('display.max_rows', None)\n",
    "\n",
    "import json # library to handle JSON files\n",
    "\n",
    "!conda install -c conda-forge geopy --yes # uncomment this line if you haven't completed the Foursquare API lab\n",
    "from geopy.geocoders import Nominatim # convert an address into latitude and longitude values\n",
    "\n",
    "import requests # library to handle requests\n",
    "from pandas.io.json import json_normalize # tranform JSON file into a pandas dataframe\n",
    "\n",
    "# Matplotlib and associated plotting modules\n",
    "import matplotlib.cm as cm\n",
    "import matplotlib.colors as colors\n",
    "\n",
    "# import k-means from clustering stage\n",
    "from sklearn.cluster import KMeans\n",
    "\n",
    "!conda install -c conda-forge folium=0.5.0 --yes # uncomment this line if you haven't completed the Foursquare API lab\n",
    "import folium # map rendering library\n",
    "\n",
    "print('Libraries imported.')"
   ]
  },
  {
   "cell_type": "markdown",
   "metadata": {},
   "source": [
    "### Convert to float64 (Error was caused in map creation below as Lat/Long were still objects)"
   ]
  },
  {
   "cell_type": "code",
   "execution_count": 91,
   "metadata": {},
   "outputs": [
    {
     "data": {
      "text/plain": [
       "Postcode          object\n",
       "Borough           object\n",
       "Neighbourhood     object\n",
       "Latitude         float64\n",
       "Longitude        float64\n",
       "dtype: object"
      ]
     },
     "execution_count": 91,
     "metadata": {},
     "output_type": "execute_result"
    }
   ],
   "source": [
    "# Convert to float64 (Error was caused below as Lat/Long were still objects)\n",
    "df_merged[\"Latitude\"] = pd.to_numeric(df_merged[\"Latitude\"])\n",
    "df_merged[\"Longitude\"] = pd.to_numeric(df_merged[\"Longitude\"])\n",
    "df_merged.dtypes"
   ]
  },
  {
   "cell_type": "markdown",
   "metadata": {},
   "source": [
    "### Get co-ordinates of Toronto"
   ]
  },
  {
   "cell_type": "code",
   "execution_count": 92,
   "metadata": {},
   "outputs": [
    {
     "name": "stderr",
     "output_type": "stream",
     "text": [
      "/home/jupyterlab/conda/lib/python3.6/site-packages/ipykernel_launcher.py:3: DeprecationWarning: Using Nominatim with the default \"geopy/1.18.1\" `user_agent` is strongly discouraged, as it violates Nominatim's ToS https://operations.osmfoundation.org/policies/nominatim/ and may possibly cause 403 and 429 HTTP errors. Please specify a custom `user_agent` with `Nominatim(user_agent=\"my-application\")` or by overriding the default `user_agent`: `geopy.geocoders.options.default_user_agent = \"my-application\"`. In geopy 2.0 this will become an exception.\n",
      "  This is separate from the ipykernel package so we can avoid doing imports until\n"
     ]
    },
    {
     "name": "stdout",
     "output_type": "stream",
     "text": [
      "The geograpical coordinate of Toronto are 43.6425637, -79.3870871832047.\n"
     ]
    }
   ],
   "source": [
    "address = 'Toronto, CN'\n",
    "\n",
    "geolocator = Nominatim()\n",
    "location = geolocator.geocode(address)\n",
    "latitude = location.latitude\n",
    "longitude = location.longitude\n",
    "print('The geograpical coordinate of Toronto are {}, {}.'.format(latitude, longitude))"
   ]
  },
  {
   "cell_type": "markdown",
   "metadata": {},
   "source": [
    "### Create map using merged dataframes and aggregated neighbourhoods"
   ]
  },
  {
   "cell_type": "markdown",
   "metadata": {},
   "source": [
    "# 4 Import Data from FourSquare"
   ]
  },
  {
   "cell_type": "code",
   "execution_count": 93,
   "metadata": {},
   "outputs": [
    {
     "name": "stdout",
     "output_type": "stream",
     "text": [
      "Your credentails:\n",
      "CLIENT_ID: EZI3WR2IYDUNYPQU2JSZYU51SN4PVZ5VBOIURYJZ2RL5SSGU\n",
      "CLIENT_SECRET:ROVL0QPROWJPWNKENQF5LXUK1L20VZCRUBWZTRY3FKMHVMKT\n"
     ]
    }
   ],
   "source": [
    "CLIENT_ID = 'EZI3WR2IYDUNYPQU2JSZYU51SN4PVZ5VBOIURYJZ2RL5SSGU' # your Foursquare ID\n",
    "CLIENT_SECRET = 'ROVL0QPROWJPWNKENQF5LXUK1L20VZCRUBWZTRY3FKMHVMKT' # your Foursquare Secret\n",
    "VERSION = '20180604'\n",
    "\n",
    "print('Your credentails:')\n",
    "print('CLIENT_ID: ' + CLIENT_ID)\n",
    "print('CLIENT_SECRET:' + CLIENT_SECRET)"
   ]
  },
  {
   "cell_type": "code",
   "execution_count": 94,
   "metadata": {},
   "outputs": [
    {
     "name": "stderr",
     "output_type": "stream",
     "text": [
      "/home/jupyterlab/conda/lib/python3.6/site-packages/ipykernel_launcher.py:3: DeprecationWarning: Using Nominatim with the default \"geopy/1.18.1\" `user_agent` is strongly discouraged, as it violates Nominatim's ToS https://operations.osmfoundation.org/policies/nominatim/ and may possibly cause 403 and 429 HTTP errors. Please specify a custom `user_agent` with `Nominatim(user_agent=\"my-application\")` or by overriding the default `user_agent`: `geopy.geocoders.options.default_user_agent = \"my-application\"`. In geopy 2.0 this will become an exception.\n",
      "  This is separate from the ipykernel package so we can avoid doing imports until\n"
     ]
    },
    {
     "name": "stdout",
     "output_type": "stream",
     "text": [
      "The geograpical coordinate of Toronto are 43.6425637, -79.3870871832047.\n"
     ]
    }
   ],
   "source": [
    "address = 'Toronto, CN'\n",
    "\n",
    "geolocator = Nominatim()\n",
    "location = geolocator.geocode(address)\n",
    "latitude = location.latitude\n",
    "longitude = location.longitude\n",
    "print('The geograpical coordinate of Toronto are {}, {}.'.format(latitude, longitude))"
   ]
  },
  {
   "cell_type": "code",
   "execution_count": 95,
   "metadata": {},
   "outputs": [
    {
     "data": {
      "text/plain": [
       "'M1B'"
      ]
     },
     "execution_count": 95,
     "metadata": {},
     "output_type": "execute_result"
    }
   ],
   "source": [
    "df_merged.loc[0, 'Postcode']"
   ]
  },
  {
   "cell_type": "code",
   "execution_count": 96,
   "metadata": {},
   "outputs": [
    {
     "name": "stdout",
     "output_type": "stream",
     "text": [
      "Latitude and longitude values of M1B are 43.806686299999996, -79.19435340000001.\n"
     ]
    }
   ],
   "source": [
    "postcode_latitude = df_merged.loc[0, 'Latitude'] # neighborhood latitude value\n",
    "postcode_longitude = df_merged.loc[0, 'Longitude'] # neighborhood longitude value\n",
    "\n",
    "postcode_name = df_merged.loc[0, 'Postcode'] # neighborhood name\n",
    "\n",
    "print('Latitude and longitude values of {} are {}, {}.'.format(postcode_name, \n",
    "                                                               postcode_latitude, \n",
    "                                                               postcode_longitude))"
   ]
  },
  {
   "cell_type": "markdown",
   "metadata": {},
   "source": [
    "### Retrieve data from FourSquare, limiting to food venues (categoryID = 4d4b7105d754a06374d81259)"
   ]
  },
  {
   "cell_type": "code",
   "execution_count": 97,
   "metadata": {},
   "outputs": [
    {
     "name": "stdout",
     "output_type": "stream",
     "text": [
      "venues .... OK!\n"
     ]
    }
   ],
   "source": [
    "search_query = 'venues'\n",
    "Limit = 100\n",
    "radius = 500\n",
    "#categoryId = '4d4b7105d754a06374d81259'\n",
    "print(search_query + ' .... OK!')"
   ]
  },
  {
   "cell_type": "code",
   "execution_count": 98,
   "metadata": {},
   "outputs": [
    {
     "data": {
      "text/plain": [
       "'https://api.foursquare.com/v2/venues/explore?&client_id=EZI3WR2IYDUNYPQU2JSZYU51SN4PVZ5VBOIURYJZ2RL5SSGU&client_secret=ROVL0QPROWJPWNKENQF5LXUK1L20VZCRUBWZTRY3FKMHVMKT&v=20180604&ll=43.806686299999996,-79.19435340000001&radius=500&limit=100'"
      ]
     },
     "execution_count": 98,
     "metadata": {},
     "output_type": "execute_result"
    }
   ],
   "source": [
    "url = 'https://api.foursquare.com/v2/venues/explore?&client_id={}&client_secret={}&v={}&ll={},{}&radius={}&limit={}'.format(\n",
    "    CLIENT_ID, \n",
    "    CLIENT_SECRET, \n",
    "    VERSION, \n",
    "    postcode_latitude, \n",
    "    postcode_longitude, \n",
    "    radius,\n",
    "    Limit,)\n",
    "url"
   ]
  },
  {
   "cell_type": "code",
   "execution_count": 99,
   "metadata": {},
   "outputs": [
    {
     "data": {
      "text/plain": [
       "{'meta': {'code': 200, 'requestId': '5c52ed514c1f6744eaff0569'},\n",
       " 'response': {'warning': {'text': \"There aren't a lot of results near you. Try something more general, reset your filters, or expand the search area.\"},\n",
       "  'headerLocation': 'Malvern',\n",
       "  'headerFullLocation': 'Malvern, Toronto',\n",
       "  'headerLocationGranularity': 'neighborhood',\n",
       "  'totalResults': 1,\n",
       "  'suggestedBounds': {'ne': {'lat': 43.8111863045, 'lng': -79.18812958073042},\n",
       "   'sw': {'lat': 43.80218629549999, 'lng': -79.2005772192696}},\n",
       "  'groups': [{'type': 'Recommended Places',\n",
       "    'name': 'recommended',\n",
       "    'items': [{'reasons': {'count': 0,\n",
       "       'items': [{'summary': 'This spot is popular',\n",
       "         'type': 'general',\n",
       "         'reasonName': 'globalInteractionReason'}]},\n",
       "      'venue': {'id': '4bb6b9446edc76b0d771311c',\n",
       "       'name': \"Wendy's\",\n",
       "       'location': {'crossStreet': 'Morningside & Sheppard',\n",
       "        'lat': 43.80744841934756,\n",
       "        'lng': -79.19905558052072,\n",
       "        'labeledLatLngs': [{'label': 'display',\n",
       "          'lat': 43.80744841934756,\n",
       "          'lng': -79.19905558052072}],\n",
       "        'distance': 387,\n",
       "        'cc': 'CA',\n",
       "        'city': 'Toronto',\n",
       "        'state': 'ON',\n",
       "        'country': 'Canada',\n",
       "        'formattedAddress': ['Toronto ON', 'Canada']},\n",
       "       'categories': [{'id': '4bf58dd8d48988d16e941735',\n",
       "         'name': 'Fast Food Restaurant',\n",
       "         'pluralName': 'Fast Food Restaurants',\n",
       "         'shortName': 'Fast Food',\n",
       "         'icon': {'prefix': 'https://ss3.4sqi.net/img/categories_v2/food/fastfood_',\n",
       "          'suffix': '.png'},\n",
       "         'primary': True}],\n",
       "       'photos': {'count': 0, 'groups': []}},\n",
       "      'referralId': 'e-0-4bb6b9446edc76b0d771311c-0'}]}]}}"
      ]
     },
     "execution_count": 99,
     "metadata": {},
     "output_type": "execute_result"
    }
   ],
   "source": [
    "#Send the GET Request and examine the results\n",
    "results = requests.get(url).json()\n",
    "results"
   ]
  },
  {
   "cell_type": "markdown",
   "metadata": {},
   "source": [
    "### Get venue details"
   ]
  },
  {
   "cell_type": "code",
   "execution_count": 100,
   "metadata": {},
   "outputs": [],
   "source": [
    "# function that extracts the category of the venue\n",
    "def get_category_type(row):\n",
    "    try:\n",
    "        categories_list = row['categories']\n",
    "    except:\n",
    "        categories_list = row['venue.categories']\n",
    "        \n",
    "    if len(categories_list) == 0:\n",
    "        return None\n",
    "    else:\n",
    "        return categories_list[0]['name']"
   ]
  },
  {
   "cell_type": "code",
   "execution_count": 101,
   "metadata": {},
   "outputs": [
    {
     "data": {
      "text/html": [
       "<div>\n",
       "<style scoped>\n",
       "    .dataframe tbody tr th:only-of-type {\n",
       "        vertical-align: middle;\n",
       "    }\n",
       "\n",
       "    .dataframe tbody tr th {\n",
       "        vertical-align: top;\n",
       "    }\n",
       "\n",
       "    .dataframe thead th {\n",
       "        text-align: right;\n",
       "    }\n",
       "</style>\n",
       "<table border=\"1\" class=\"dataframe\">\n",
       "  <thead>\n",
       "    <tr style=\"text-align: right;\">\n",
       "      <th></th>\n",
       "      <th>name</th>\n",
       "      <th>categories</th>\n",
       "      <th>lat</th>\n",
       "      <th>lng</th>\n",
       "    </tr>\n",
       "  </thead>\n",
       "  <tbody>\n",
       "    <tr>\n",
       "      <th>0</th>\n",
       "      <td>Wendy's</td>\n",
       "      <td>Fast Food Restaurant</td>\n",
       "      <td>43.807448</td>\n",
       "      <td>-79.199056</td>\n",
       "    </tr>\n",
       "  </tbody>\n",
       "</table>\n",
       "</div>"
      ],
      "text/plain": [
       "      name            categories        lat        lng\n",
       "0  Wendy's  Fast Food Restaurant  43.807448 -79.199056"
      ]
     },
     "execution_count": 101,
     "metadata": {},
     "output_type": "execute_result"
    }
   ],
   "source": [
    "venues = results['response']['groups'][0]['items']\n",
    "    \n",
    "nearby_venues = json_normalize(venues) # flatten JSON\n",
    "\n",
    "# filter columns\n",
    "filtered_columns = ['venue.name', 'venue.categories', 'venue.location.lat', 'venue.location.lng']\n",
    "nearby_venues =nearby_venues.loc[:, filtered_columns]\n",
    "\n",
    "# filter the category for each row\n",
    "nearby_venues['venue.categories'] = nearby_venues.apply(get_category_type, axis=1)\n",
    "\n",
    "# clean columns\n",
    "nearby_venues.columns = [col.split(\".\")[-1] for col in nearby_venues.columns]\n",
    "\n",
    "nearby_venues.head()"
   ]
  },
  {
   "cell_type": "markdown",
   "metadata": {},
   "source": [
    "### Combine venue and neighbourhood co-ordinates"
   ]
  },
  {
   "cell_type": "code",
   "execution_count": 102,
   "metadata": {},
   "outputs": [],
   "source": [
    "def getNearbyVenues(names, latitudes, longitudes, radius=500):\n",
    "    \n",
    "    venues_list=[]\n",
    "    for name, lat, lng in zip(names, latitudes, longitudes):\n",
    "        print(name)\n",
    "            \n",
    "        # create the API request URL\n",
    "        url = 'https://api.foursquare.com/v2/venues/explore?&client_id={}&client_secret={}&v={}&ll={},{}&radius={}&limit={}'.format(\n",
    "            CLIENT_ID, \n",
    "            CLIENT_SECRET, \n",
    "            VERSION, \n",
    "            lat, \n",
    "            lng, \n",
    "            radius, \n",
    "            Limit)\n",
    "            \n",
    "        # make the GET request\n",
    "        results = requests.get(url).json()[\"response\"]['groups'][0]['items']\n",
    "        \n",
    "        # return only relevant information for each nearby venue\n",
    "        venues_list.append([(\n",
    "            name, \n",
    "            lat, \n",
    "            lng, \n",
    "            v['venue']['name'], \n",
    "            v['venue']['location']['lat'], \n",
    "            v['venue']['location']['lng'],\n",
    "            v['venue']['categories'][0]['name']) for v in results])\n",
    "\n",
    "    nearby_venues = pd.DataFrame([item for venue_list in venues_list for item in venue_list])\n",
    "    nearby_venues.columns = ['Postcode', \n",
    "                  'Neighborhood Latitude', \n",
    "                  'Neighborhood Longitude', \n",
    "                  'Venue', \n",
    "                  'Venue Latitude', \n",
    "                  'Venue Longitude', \n",
    "                  'Venue Category']\n",
    "    \n",
    "    return(nearby_venues)"
   ]
  },
  {
   "cell_type": "code",
   "execution_count": 103,
   "metadata": {},
   "outputs": [
    {
     "name": "stdout",
     "output_type": "stream",
     "text": [
      "M1B\n",
      "M1C\n",
      "M1E\n",
      "M1G\n",
      "M1H\n",
      "M1J\n",
      "M1K\n",
      "M1L\n",
      "M1M\n",
      "M1N\n",
      "M1P\n",
      "M1R\n",
      "M1S\n",
      "M1T\n",
      "M1V\n",
      "M1W\n",
      "M1X\n",
      "M2H\n",
      "M2J\n",
      "M2K\n",
      "M2L\n",
      "M2M\n",
      "M2N\n",
      "M2P\n",
      "M2R\n",
      "M3A\n",
      "M3B\n",
      "M3C\n",
      "M3H\n",
      "M3J\n",
      "M3K\n",
      "M3L\n",
      "M3M\n",
      "M3N\n",
      "M4A\n",
      "M4B\n",
      "M4C\n",
      "M4E\n",
      "M4G\n",
      "M4H\n",
      "M4J\n",
      "M4K\n",
      "M4L\n",
      "M4M\n",
      "M4N\n",
      "M4P\n",
      "M4R\n",
      "M4S\n",
      "M4T\n",
      "M4V\n",
      "M4W\n",
      "M4X\n",
      "M4Y\n",
      "M5A\n",
      "M5B\n",
      "M5C\n",
      "M5E\n",
      "M5G\n",
      "M5H\n",
      "M5J\n",
      "M5K\n",
      "M5L\n",
      "M5M\n",
      "M5N\n",
      "M5P\n",
      "M5R\n",
      "M5S\n",
      "M5T\n",
      "M5V\n",
      "M5W\n",
      "M5X\n",
      "M6A\n",
      "M6B\n",
      "M6C\n",
      "M6E\n",
      "M6G\n",
      "M6H\n",
      "M6J\n",
      "M6K\n",
      "M6L\n",
      "M6M\n",
      "M6N\n",
      "M6P\n",
      "M6R\n",
      "M6S\n",
      "M7A\n",
      "M7R\n",
      "M7Y\n",
      "M8V\n",
      "M8W\n",
      "M8X\n",
      "M8Y\n",
      "M8Z\n",
      "M9A\n",
      "M9B\n",
      "M9C\n",
      "M9L\n",
      "M9M\n",
      "M9N\n",
      "M9P\n",
      "M9R\n",
      "M9V\n",
      "M9W\n"
     ]
    }
   ],
   "source": [
    "toronto_venues = getNearbyVenues(names=df_merged['Postcode'],\n",
    "                                   latitudes=df_merged['Latitude'],\n",
    "                                   longitudes=df_merged['Longitude'])"
   ]
  },
  {
   "cell_type": "markdown",
   "metadata": {},
   "source": [
    "### View the final dataframe"
   ]
  },
  {
   "cell_type": "code",
   "execution_count": 104,
   "metadata": {},
   "outputs": [
    {
     "name": "stdout",
     "output_type": "stream",
     "text": [
      "(2250, 7)\n"
     ]
    }
   ],
   "source": [
    "print(toronto_venues.shape)\n",
    "#toronto_venues.head(30)"
   ]
  },
  {
   "cell_type": "markdown",
   "metadata": {},
   "source": [
    "# 5 DBSCAN CLUSTERING"
   ]
  },
  {
   "cell_type": "markdown",
   "metadata": {},
   "source": [
    "### Import necessary tools and modules"
   ]
  },
  {
   "cell_type": "code",
   "execution_count": 105,
   "metadata": {},
   "outputs": [
    {
     "name": "stdout",
     "output_type": "stream",
     "text": [
      "Collecting package metadata: done\n",
      "Solving environment: done\n",
      "\n",
      "## Package Plan ##\n",
      "\n",
      "  environment location: /home/jupyterlab/conda\n",
      "\n",
      "  added / updated specs:\n",
      "    - shapely\n",
      "\n",
      "\n",
      "The following packages will be UPDATED:\n",
      "\n",
      "  ca-certificates    conda-forge::ca-certificates-2018.11.~ --> pkgs/main::ca-certificates-2018.12.5-0\n",
      "\n",
      "The following packages will be SUPERSEDED by a higher-priority channel:\n",
      "\n",
      "  certifi            conda-forge::certifi-2018.11.29-py36_~ --> pkgs/main::certifi-2018.11.29-py36_0\n",
      "  openssl            conda-forge::openssl-1.1.1a-h14c3975_~ --> pkgs/main::openssl-1.1.1a-h7b6447c_0\n",
      "\n",
      "\n",
      "Preparing transaction: done\n",
      "Verifying transaction: done\n",
      "Executing transaction: done\n",
      "All Done\n"
     ]
    }
   ],
   "source": [
    "import pandas as pd, numpy as np, matplotlib.pyplot as plt\n",
    "from sklearn.cluster import DBSCAN\n",
    "from geopy.distance import great_circle\n",
    "!conda install shapely -y\n",
    "from shapely.geometry import MultiPoint\n",
    "\n",
    "print('All Done')"
   ]
  },
  {
   "cell_type": "markdown",
   "metadata": {},
   "source": [
    "### Convert venue co-ordinates to float64 (so they can be read by scatter chart code)"
   ]
  },
  {
   "cell_type": "code",
   "execution_count": 106,
   "metadata": {},
   "outputs": [
    {
     "data": {
      "text/plain": [
       "Postcode                   object\n",
       "Neighborhood Latitude     float64\n",
       "Neighborhood Longitude    float64\n",
       "Venue                      object\n",
       "Venue Latitude            float64\n",
       "Venue Longitude           float64\n",
       "Venue Category             object\n",
       "dtype: object"
      ]
     },
     "execution_count": 106,
     "metadata": {},
     "output_type": "execute_result"
    }
   ],
   "source": [
    "# Convert to float64 (Error was caused below as Lat/Long were still objects)\n",
    "toronto_venues[\"Venue Latitude\"] = pd.to_numeric(toronto_venues[\"Venue Latitude\"])\n",
    "toronto_venues[\"Venue Longitude\"] = pd.to_numeric(toronto_venues[\"Venue Longitude\"])\n",
    "toronto_venues.dtypes"
   ]
  },
  {
   "cell_type": "markdown",
   "metadata": {},
   "source": [
    "### Calculate co-ordinates for DBSCAN clusters"
   ]
  },
  {
   "cell_type": "code",
   "execution_count": 107,
   "metadata": {},
   "outputs": [],
   "source": [
    "coords = X = toronto_venues[['Venue Latitude', 'Venue Longitude']].values"
   ]
  },
  {
   "cell_type": "code",
   "execution_count": 108,
   "metadata": {},
   "outputs": [
    {
     "name": "stdout",
     "output_type": "stream",
     "text": [
      "Number of clusters: 50\n"
     ]
    }
   ],
   "source": [
    "kms_per_radian = 6371.0088\n",
    "epsilon = 1.5 / kms_per_radian\n",
    "db = DBSCAN(eps=epsilon, min_samples=1, algorithm='ball_tree', metric='haversine').fit(np.radians(coords))\n",
    "cluster_labels = db.labels_\n",
    "num_clusters = len(set(cluster_labels))\n",
    "clusters = pd.Series([coords[cluster_labels == n] for n in range(num_clusters)])\n",
    "print('Number of clusters: {}'.format(num_clusters))"
   ]
  },
  {
   "cell_type": "code",
   "execution_count": 109,
   "metadata": {},
   "outputs": [],
   "source": [
    "def get_centermost_point(cluster):\n",
    "    centroid = (MultiPoint(cluster).centroid.x, MultiPoint(cluster).centroid.y)\n",
    "    centermost_point = min(cluster, key=lambda point: great_circle(point, centroid).m)\n",
    "    return tuple(centermost_point)\n",
    "centermost_points = clusters.map(get_centermost_point)"
   ]
  },
  {
   "cell_type": "markdown",
   "metadata": {},
   "source": [
    "### Output co-ordinates for DBSCAN clusters"
   ]
  },
  {
   "cell_type": "code",
   "execution_count": 110,
   "metadata": {},
   "outputs": [
    {
     "data": {
      "text/plain": [
       "<bound method NDFrame.head of           lon        lat\n",
       "0  -79.199056  43.807448\n",
       "1  -79.163085  43.782533\n",
       "2  -79.191000  43.766000\n",
       "3  -79.236500  43.774593\n",
       "4  -79.239336  43.745089\n",
       "5  -79.266240  43.727447\n",
       "6  -79.312196  43.705921\n",
       "7  -79.240135  43.718256\n",
       "8  -79.262230  43.694647\n",
       "9  -79.290047  43.750947\n",
       "10 -79.259681  43.792823\n",
       "11 -79.299837  43.780438\n",
       "12 -79.289773  43.815477\n",
       "13 -79.318558  43.798589\n",
       "14 -79.363905  43.803664\n",
       "15 -79.344691  43.777961\n",
       "16 -79.380751  43.787863\n",
       "17 -79.405500  43.792814\n",
       "18 -79.412671  43.768540\n",
       "19 -79.399717  43.751257\n",
       "20 -79.446339  43.783237\n",
       "21 -79.347077  43.747665\n",
       "22 -79.340997  43.726618\n",
       "23 -79.440166  43.755680\n",
       "24 -79.486588  43.764314\n",
       "25 -79.466000  43.737461\n",
       "26 -79.501280  43.726512\n",
       "27 -79.519454  43.759257\n",
       "28 -79.313103  43.725517\n",
       "29 -79.297215  43.679181\n",
       "30 -79.359060  43.708100\n",
       "31 -79.383761  43.657397\n",
       "32 -79.419491  43.733398\n",
       "33 -79.464310  43.718658\n",
       "34 -79.443126  43.707420\n",
       "35 -79.456300  43.690654\n",
       "36 -79.484611  43.649902\n",
       "37 -79.618756  43.638429\n",
       "38 -79.501147  43.601960\n",
       "39 -79.545372  43.602165\n",
       "40 -79.496266  43.633152\n",
       "41 -79.518718  43.630156\n",
       "42 -79.549748  43.648921\n",
       "43 -79.576721  43.641820\n",
       "44 -79.570637  43.758820\n",
       "45 -79.532854  43.721765\n",
       "46 -79.533233  43.696431\n",
       "47 -79.557066  43.690907\n",
       "48 -79.586639  43.741968\n",
       "49 -79.589943  43.708471>"
      ]
     },
     "execution_count": 110,
     "metadata": {},
     "output_type": "execute_result"
    }
   ],
   "source": [
    "lats, lons = zip(*centermost_points)\n",
    "rep_points = pd.DataFrame({'lon':lons, 'lat':lats})\n",
    "rep_points.head"
   ]
  },
  {
   "cell_type": "markdown",
   "metadata": {},
   "source": [
    "### Place DBSCAN clusters into a scatter chart"
   ]
  },
  {
   "cell_type": "code",
   "execution_count": 111,
   "metadata": {},
   "outputs": [],
   "source": [
    "rs = rep_points.apply(lambda row: toronto_venues[(toronto_venues['Venue Latitude']==row['lat']) & (toronto_venues['Venue Longitude']==row['lon'])].iloc[0], axis=1)"
   ]
  },
  {
   "cell_type": "code",
   "execution_count": 112,
   "metadata": {},
   "outputs": [
    {
     "data": {
      "image/png": "[encoded data removed]",
      "text/plain": [
       "<Figure size 720x432 with 1 Axes>"
      ]
     },
     "metadata": {
      "needs_background": "light"
     },
     "output_type": "display_data"
    }
   ],
   "source": [
    "fig, ax = plt.subplots(figsize=[10, 6])\n",
    "rs_scatter = ax.scatter(rep_points['lon'], rep_points['lat'], c='#99cc99', edgecolor='None', alpha=0.7, s=120)\n",
    "ax.set_title('DBSCAN Clustered set')\n",
    "ax.set_xlabel('Longitude')\n",
    "ax.set_ylabel('Latitude')\n",
    "ax.legend([rs_scatter], ['Venue Clusters'], loc='upper right')\n",
    "plt.show()"
   ]
  },
  {
   "cell_type": "markdown",
   "metadata": {},
   "source": [
    "# 6 Create final map and overlay DBSCAN clusters"
   ]
  },
  {
   "cell_type": "code",
   "execution_count": 113,
   "metadata": {},
   "outputs": [
    {
     "data": {
      "text/html": [
       "<div style=\"width:100%;\"><div style=\"position:relative;width:100%;height:0;padding-bottom:60%;\"><iframe src=\"data:text/html;charset=utf-8;base64,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\" style=\"position:absolute;width:100%;height:100%;left:0;top:0;border:none !important;\" allowfullscreen webkitallowfullscreen mozallowfullscreen></iframe></div></div>"
      ],
      "text/plain": [
       "<folium.folium.Map at 0x7f2aa925ce48>"
      ]
     },
     "execution_count": 113,
     "metadata": {},
     "output_type": "execute_result"
    }
   ],
   "source": [
    "# create map of Toronto using latitude and longitude values\n",
    "map_toronto = folium.Map(location=[latitude, longitude], zoom_start=11)\n",
    "\n",
    "# add markers to map\n",
    "for lat, lng, label in zip(rep_points['lat'], rep_points['lon'], rs['Venue']):\n",
    "    label = folium.Popup(label, parse_html=True)\n",
    "    folium.CircleMarker(\n",
    "        [lat, lng],\n",
    "        radius=5,\n",
    "        popup=label,\n",
    "        color='blue',\n",
    "        fill=True,\n",
    "        fill_color='#3186cc',\n",
    "        fill_opacity=0.7,\n",
    "        parse_html=False).add_to(map_toronto)\n",
    "    \n",
    "map_toronto"
   ]
  }
 ],
 "metadata": {
  "kernelspec": {
   "display_name": "Python 3",
   "language": "python",
   "name": "python3"
  },
  "language_info": {
   "codemirror_mode": {
    "name": "ipython",
    "version": 3
   },
   "file_extension": ".py",
   "mimetype": "text/x-python",
   "name": "python",
   "nbconvert_exporter": "python",
   "pygments_lexer": "ipython3",
   "version": "3.6.8"
  }
 },
 "nbformat": 4,
 "nbformat_minor": 2
}
